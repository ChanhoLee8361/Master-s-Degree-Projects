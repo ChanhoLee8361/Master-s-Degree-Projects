{
 "cells": [
  {
   "cell_type": "code",
   "execution_count": 1,
   "id": "133511ba-821f-425e-b0bb-05de5cc3eab1",
   "metadata": {},
   "outputs": [],
   "source": [
    "import tensorflow as tf\n",
    "fashion_mnist = tf.keras.datasets.fashion_mnist\n",
    "(train_X, train_Y), (test_X, test_Y) = fashion_mnist.load_data()\n",
    "\n",
    "train_X = train_X / 255.0\n",
    "test_X = test_X / 255.0"
   ]
  },
  {
   "cell_type": "code",
   "execution_count": 2,
   "id": "4523fcf0-a21b-4cb7-a0b2-b0eff331ac7b",
   "metadata": {},
   "outputs": [
    {
     "name": "stdout",
     "output_type": "stream",
     "text": [
      "(60000, 28, 28) (10000, 28, 28)\n",
      "(60000, 28, 28, 1) (10000, 28, 28, 1)\n"
     ]
    }
   ],
   "source": [
    "# reshape 이전\n",
    "print(train_X.shape, test_X.shape)\n",
    "\n",
    "train_X = train_X.reshape(-1, 28, 28, 1)\n",
    "test_X = test_X.reshape(-1, 28, 28, 1)\n",
    "\n",
    "# reshape 이후\n",
    "print(train_X.shape, test_X.shape)"
   ]
  },
  {
   "cell_type": "code",
   "execution_count": 3,
   "id": "34085041-252e-4b0c-a861-9bbe3da752d8",
   "metadata": {},
   "outputs": [
    {
     "data": {
      "text/plain": [
       "<matplotlib.figure.Figure at 0x7f83727860>"
      ]
     },
     "metadata": {},
     "output_type": "display_data"
    },
    {
     "name": "stdout",
     "output_type": "stream",
     "text": [
      "[9 0 0 3 0 2 7 2 5 5 0 9 5 5 7 9]\n"
     ]
    }
   ],
   "source": [
    "import matplotlib.pyplot as plt\n",
    "\n",
    "# 전체 그래프의 크기를 width = 10, height = 10으로 지정합니다. \n",
    "plt.figure(figsize=(10, 10))\n",
    "for c in range(16): \n",
    "  # 4행 4열로 지정한 그리드에서 c+1번째의 칸에 그래프를 그립니다. 1~16번째 칸을 채우게 됩니다. \n",
    "  plt.subplot(4,4,c+1)\n",
    "  plt.imshow(train_X[c].reshape(28,28), cmap='gray')\n",
    "\n",
    "plt.show()\n",
    "\n",
    "# 훈련 데이터이 1~16번째 까지의 라벨 프린트합니다. \n",
    "print(train_Y[:16])"
   ]
  },
  {
   "cell_type": "code",
   "execution_count": 4,
   "id": "691bbe7e-1ed6-4a87-93b6-53f97163d6fc",
   "metadata": {},
   "outputs": [
    {
     "name": "stdout",
     "output_type": "stream",
     "text": [
      "Model: \"sequential\"\n",
      "_________________________________________________________________\n",
      "Layer (type)                 Output Shape              Param #   \n",
      "=================================================================\n",
      "conv2d (Conv2D)              (None, 26, 26, 16)        160       \n",
      "_________________________________________________________________\n",
      "conv2d_1 (Conv2D)            (None, 24, 24, 32)        4640      \n",
      "_________________________________________________________________\n",
      "conv2d_2 (Conv2D)            (None, 22, 22, 64)        18496     \n",
      "_________________________________________________________________\n",
      "flatten (Flatten)            (None, 30976)             0         \n",
      "_________________________________________________________________\n",
      "dense (Dense)                (None, 128)               3965056   \n",
      "_________________________________________________________________\n",
      "dense_1 (Dense)              (None, 10)                1290      \n",
      "=================================================================\n",
      "Total params: 3,989,642\n",
      "Trainable params: 3,989,642\n",
      "Non-trainable params: 0\n",
      "_________________________________________________________________\n"
     ]
    }
   ],
   "source": [
    "model = tf.keras.Sequential([\n",
    "  tf.keras.layers.Conv2D(input_shape=(28,28,1), kernel_size=(3,3), filters=16),\n",
    "  tf.keras.layers.Conv2D(kernel_size=(3,3), filters=32), \n",
    "  tf.keras.layers.Conv2D(kernel_size=(3,3), filters=64), \n",
    "  tf.keras.layers.Flatten(), \n",
    "  tf.keras.layers.Dense(units=128, activation='relu'), \n",
    "  tf.keras.layers.Dense(units=10, activation='softmax')                             \n",
    "])\n",
    "\n",
    "model.compile(optimizer=tf.keras.optimizers.Adam(), \n",
    "              loss='sparse_categorical_crossentropy', \n",
    "              metrics=['accuracy'])\n",
    "\n",
    "model.summary()"
   ]
  },
  {
   "cell_type": "code",
   "execution_count": 5,
   "id": "8f3ca9a5-ed82-4f08-a999-a3544fc0d55b",
   "metadata": {},
   "outputs": [
    {
     "name": "stdout",
     "output_type": "stream",
     "text": [
      "Epoch 1/25\n",
      "1407/1407 [==============================] - 26s 12ms/step - loss: 0.4683 - accuracy: 0.8330 - val_loss: 0.3757 - val_accuracy: 0.8636\n",
      "Epoch 2/25\n",
      "1407/1407 [==============================] - 15s 11ms/step - loss: 0.3407 - accuracy: 0.8758 - val_loss: 0.3691 - val_accuracy: 0.8671\n",
      "Epoch 3/25\n",
      "1407/1407 [==============================] - 15s 11ms/step - loss: 0.2862 - accuracy: 0.8948 - val_loss: 0.3943 - val_accuracy: 0.8695\n",
      "Epoch 4/25\n",
      "1407/1407 [==============================] - 15s 11ms/step - loss: 0.2422 - accuracy: 0.9095 - val_loss: 0.3960 - val_accuracy: 0.8725\n",
      "Epoch 5/25\n",
      "1407/1407 [==============================] - 15s 11ms/step - loss: 0.2105 - accuracy: 0.9223 - val_loss: 0.4267 - val_accuracy: 0.8684\n",
      "Epoch 6/25\n",
      "1407/1407 [==============================] - 15s 11ms/step - loss: 0.1839 - accuracy: 0.9318 - val_loss: 0.4975 - val_accuracy: 0.8687\n",
      "Epoch 7/25\n",
      "1407/1407 [==============================] - 15s 11ms/step - loss: 0.1660 - accuracy: 0.9385 - val_loss: 0.4742 - val_accuracy: 0.8598\n",
      "Epoch 8/25\n",
      "1407/1407 [==============================] - 15s 10ms/step - loss: 0.1466 - accuracy: 0.9464 - val_loss: 0.5227 - val_accuracy: 0.8693\n",
      "Epoch 9/25\n",
      "1407/1407 [==============================] - 15s 10ms/step - loss: 0.1373 - accuracy: 0.9480 - val_loss: 0.6009 - val_accuracy: 0.8703\n",
      "Epoch 10/25\n",
      "1407/1407 [==============================] - 15s 10ms/step - loss: 0.1341 - accuracy: 0.9523 - val_loss: 0.6182 - val_accuracy: 0.8653\n",
      "Epoch 11/25\n",
      "1407/1407 [==============================] - 15s 10ms/step - loss: 0.1104 - accuracy: 0.9592 - val_loss: 0.6173 - val_accuracy: 0.8621\n",
      "Epoch 12/25\n",
      "1407/1407 [==============================] - 15s 10ms/step - loss: 0.1065 - accuracy: 0.9616 - val_loss: 0.6772 - val_accuracy: 0.8585\n",
      "Epoch 13/25\n",
      "1407/1407 [==============================] - 15s 10ms/step - loss: 0.0973 - accuracy: 0.9642 - val_loss: 0.7632 - val_accuracy: 0.8654\n",
      "Epoch 14/25\n",
      "1407/1407 [==============================] - 15s 10ms/step - loss: 0.0973 - accuracy: 0.9641 - val_loss: 0.7606 - val_accuracy: 0.8654\n",
      "Epoch 15/25\n",
      "1407/1407 [==============================] - 15s 10ms/step - loss: 0.0935 - accuracy: 0.9668 - val_loss: 0.7888 - val_accuracy: 0.8599\n",
      "Epoch 16/25\n",
      "1407/1407 [==============================] - 15s 10ms/step - loss: 0.0896 - accuracy: 0.9681 - val_loss: 0.9558 - val_accuracy: 0.8569\n",
      "Epoch 17/25\n",
      "1407/1407 [==============================] - 15s 10ms/step - loss: 0.0774 - accuracy: 0.9719 - val_loss: 1.0888 - val_accuracy: 0.8641\n",
      "Epoch 18/25\n",
      "1407/1407 [==============================] - 15s 10ms/step - loss: 0.0790 - accuracy: 0.9728 - val_loss: 0.9271 - val_accuracy: 0.8604\n",
      "Epoch 19/25\n",
      "1407/1407 [==============================] - 15s 11ms/step - loss: 0.0705 - accuracy: 0.9747 - val_loss: 0.9493 - val_accuracy: 0.8693\n",
      "Epoch 20/25\n",
      "1407/1407 [==============================] - 15s 10ms/step - loss: 0.0755 - accuracy: 0.9747 - val_loss: 1.0807 - val_accuracy: 0.8554\n",
      "Epoch 21/25\n",
      "1407/1407 [==============================] - 16s 11ms/step - loss: 0.0695 - accuracy: 0.9762 - val_loss: 1.0410 - val_accuracy: 0.8637\n",
      "Epoch 22/25\n",
      "1407/1407 [==============================] - 15s 10ms/step - loss: 0.0644 - accuracy: 0.9776 - val_loss: 1.0836 - val_accuracy: 0.8681\n",
      "Epoch 23/25\n",
      "1407/1407 [==============================] - 15s 10ms/step - loss: 0.0671 - accuracy: 0.9779 - val_loss: 1.0916 - val_accuracy: 0.8625\n",
      "Epoch 24/25\n",
      "1407/1407 [==============================] - 15s 11ms/step - loss: 0.0618 - accuracy: 0.9794 - val_loss: 1.0754 - val_accuracy: 0.8644\n",
      "Epoch 25/25\n",
      "1407/1407 [==============================] - 15s 10ms/step - loss: 0.0671 - accuracy: 0.9785 - val_loss: 1.1555 - val_accuracy: 0.8606\n"
     ]
    }
   ],
   "source": [
    "history = model.fit(train_X, train_Y, epochs=25, validation_split=0.25)"
   ]
  },
  {
   "cell_type": "code",
   "execution_count": null,
   "id": "f6929300-ff38-4e60-950b-99a717ec9620",
   "metadata": {},
   "outputs": [],
   "source": []
  }
 ],
 "metadata": {
  "kernelspec": {
   "display_name": "Python 3",
   "language": "python",
   "name": "python3"
  },
  "language_info": {
   "codemirror_mode": {
    "name": "ipython",
    "version": 3
   },
   "file_extension": ".py",
   "mimetype": "text/x-python",
   "name": "python",
   "nbconvert_exporter": "python",
   "pygments_lexer": "ipython3",
   "version": "3.6.9"
  }
 },
 "nbformat": 4,
 "nbformat_minor": 5
}
